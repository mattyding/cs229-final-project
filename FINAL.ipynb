{
 "cells": [
  {
   "cell_type": "markdown",
   "metadata": {},
   "source": [
    "**CS229: Context Learning on Losslessly Compressed Data**\n",
    "\n",
    "This notebook contains the implementation for my experiments with evaluating the accuracy of BERT on the Words in Context (WiC) dataset, with varying levels of data compression applied to the dataset. I primarily focused on two lossless compression algorithms: Byte-Pair Encoding (BPE) and Huffman Coding. I compressed the WiC dataset with varying levels of tokenization (no tokenization, unigram word tokenization, subword tokenization) and evaluated the resulting trained linear classifier. "
   ]
  },
  {
   "cell_type": "code",
   "execution_count": 1,
   "metadata": {},
   "outputs": [
    {
     "name": "stderr",
     "output_type": "stream",
     "text": [
      "2022-12-10 04:05:19.885643: I tensorflow/core/platform/cpu_feature_guard.cc:193] This TensorFlow binary is optimized with oneAPI Deep Neural Network Library (oneDNN) to use the following CPU instructions in performance-critical operations:  AVX2 AVX512F AVX512_VNNI FMA\n",
      "To enable them in other operations, rebuild TensorFlow with the appropriate compiler flags.\n"
     ]
    }
   ],
   "source": [
    "%matplotlib inline\n",
    "\n",
    "import pickle\n",
    "import torch\n",
    "import sys\n",
    "import numpy as np\n",
    "import matplotlib.pyplot as plt\n",
    "import pandas as pd\n",
    "\n",
    "from bpe import get_encoder\n",
    "from collections import defaultdict\n",
    "from dahuffman import HuffmanCodec\n",
    "from hashlib import blake2b\n",
    "from sklearn.linear_model import LogisticRegression\n",
    "from sklearn.metrics import accuracy_score\n",
    "from sklearn.model_selection import train_test_split\n",
    "from tokenizers import Tokenizer\n",
    "from tokenizers.models import BPE\n",
    "from tokenizers.pre_tokenizers import Whitespace\n",
    "from transformers import  BertTokenizer, BertModel\n",
    "from tqdm.notebook import tqdm"
   ]
  },
  {
   "cell_type": "code",
   "execution_count": 2,
   "metadata": {},
   "outputs": [],
   "source": [
    "\"\"\" Setup \"\"\"\n",
    "torch.manual_seed(2292022)  # CS229, Autumn 2022!\n",
    "\n",
    "MODEL_DIR = \"models/\"\n",
    "\n",
    "SEP_TOKEN = '[SEP] '\n",
    "CLASSIFICATION_TOKEN = '[CLS]'\n",
    "\n",
    "VOCAB_SIZE = 29000 # vocab size of BERT\n",
    "BITS_PER_BYTE = 8"
   ]
  },
  {
   "cell_type": "code",
   "execution_count": 3,
   "metadata": {},
   "outputs": [],
   "source": [
    "\"\"\" Load WiC Dataset \"\"\"\n",
    "train_data = pd.read_csv(\"WiC_dataset/train/train.data.txt\", sep=\"\\t\", header=None)\n",
    "train_labels = np.array(open(\"WiC_dataset/train/train.gold.txt\", \"r\").read().split('\\n'))[:-1]  # [:-1] b/c last file entry is a blank line\n",
    "valid_data = pd.read_csv(\"WiC_dataset/dev/dev.data.txt\", sep=\"\\t\", header=None)\n",
    "valid_labels = np.array(open(\"WiC_dataset/dev/dev.gold.txt\", \"r\").read().split('\\n'))[:-1]"
   ]
  },
  {
   "cell_type": "code",
   "execution_count": 4,
   "metadata": {},
   "outputs": [
    {
     "data": {
      "text/html": [
       "<div>\n",
       "<style scoped>\n",
       "    .dataframe tbody tr th:only-of-type {\n",
       "        vertical-align: middle;\n",
       "    }\n",
       "\n",
       "    .dataframe tbody tr th {\n",
       "        vertical-align: top;\n",
       "    }\n",
       "\n",
       "    .dataframe thead th {\n",
       "        text-align: right;\n",
       "    }\n",
       "</style>\n",
       "<table border=\"1\" class=\"dataframe\">\n",
       "  <thead>\n",
       "    <tr style=\"text-align: right;\">\n",
       "      <th></th>\n",
       "      <th>0</th>\n",
       "      <th>1</th>\n",
       "      <th>2</th>\n",
       "      <th>3</th>\n",
       "      <th>4</th>\n",
       "    </tr>\n",
       "  </thead>\n",
       "  <tbody>\n",
       "    <tr>\n",
       "      <th>0</th>\n",
       "      <td>carry</td>\n",
       "      <td>V</td>\n",
       "      <td>2-1</td>\n",
       "      <td>You must carry your camping gear .</td>\n",
       "      <td>Sound carries well over water .</td>\n",
       "    </tr>\n",
       "    <tr>\n",
       "      <th>1</th>\n",
       "      <td>go</td>\n",
       "      <td>V</td>\n",
       "      <td>2-6</td>\n",
       "      <td>Messages must go through diplomatic channels .</td>\n",
       "      <td>Do you think the sofa will go through the door ?</td>\n",
       "    </tr>\n",
       "    <tr>\n",
       "      <th>2</th>\n",
       "      <td>break</td>\n",
       "      <td>V</td>\n",
       "      <td>0-2</td>\n",
       "      <td>Break an alibi .</td>\n",
       "      <td>The wholesaler broke the container loads into ...</td>\n",
       "    </tr>\n",
       "    <tr>\n",
       "      <th>3</th>\n",
       "      <td>cup</td>\n",
       "      <td>N</td>\n",
       "      <td>8-4</td>\n",
       "      <td>He wore a jock strap with a metal cup .</td>\n",
       "      <td>Bees filled the waxen cups with honey .</td>\n",
       "    </tr>\n",
       "    <tr>\n",
       "      <th>4</th>\n",
       "      <td>academy</td>\n",
       "      <td>N</td>\n",
       "      <td>1-2</td>\n",
       "      <td>The Academy of Music .</td>\n",
       "      <td>The French Academy .</td>\n",
       "    </tr>\n",
       "    <tr>\n",
       "      <th>...</th>\n",
       "      <td>...</td>\n",
       "      <td>...</td>\n",
       "      <td>...</td>\n",
       "      <td>...</td>\n",
       "      <td>...</td>\n",
       "    </tr>\n",
       "    <tr>\n",
       "      <th>5423</th>\n",
       "      <td>krona</td>\n",
       "      <td>N</td>\n",
       "      <td>4-8</td>\n",
       "      <td>Piecas kronas — five krona .</td>\n",
       "      <td>Kronas kurss — the exchange rate of the krona .</td>\n",
       "    </tr>\n",
       "    <tr>\n",
       "      <th>5424</th>\n",
       "      <td>conflict</td>\n",
       "      <td>N</td>\n",
       "      <td>3-1</td>\n",
       "      <td>The harder the conflict the more glorious the ...</td>\n",
       "      <td>The conflict between the government and the re...</td>\n",
       "    </tr>\n",
       "    <tr>\n",
       "      <th>5425</th>\n",
       "      <td>answer</td>\n",
       "      <td>V</td>\n",
       "      <td>0-0</td>\n",
       "      <td>Answer the riddle .</td>\n",
       "      <td>Answer a question .</td>\n",
       "    </tr>\n",
       "    <tr>\n",
       "      <th>5426</th>\n",
       "      <td>play</td>\n",
       "      <td>V</td>\n",
       "      <td>0-0</td>\n",
       "      <td>Play the casinos in Trouville .</td>\n",
       "      <td>Play the races .</td>\n",
       "    </tr>\n",
       "    <tr>\n",
       "      <th>5427</th>\n",
       "      <td>invasion</td>\n",
       "      <td>N</td>\n",
       "      <td>1-1</td>\n",
       "      <td>An invasion of bees .</td>\n",
       "      <td>An invasion of mobile phones .</td>\n",
       "    </tr>\n",
       "  </tbody>\n",
       "</table>\n",
       "<p>5428 rows × 5 columns</p>\n",
       "</div>"
      ],
      "text/plain": [
       "             0  1    2                                                  3  \\\n",
       "0        carry  V  2-1                 You must carry your camping gear .   \n",
       "1           go  V  2-6     Messages must go through diplomatic channels .   \n",
       "2        break  V  0-2                                   Break an alibi .   \n",
       "3          cup  N  8-4            He wore a jock strap with a metal cup .   \n",
       "4      academy  N  1-2                             The Academy of Music .   \n",
       "...        ... ..  ...                                                ...   \n",
       "5423     krona  N  4-8                       Piecas kronas — five krona .   \n",
       "5424  conflict  N  3-1  The harder the conflict the more glorious the ...   \n",
       "5425    answer  V  0-0                                Answer the riddle .   \n",
       "5426      play  V  0-0                    Play the casinos in Trouville .   \n",
       "5427  invasion  N  1-1                              An invasion of bees .   \n",
       "\n",
       "                                                      4  \n",
       "0                       Sound carries well over water .  \n",
       "1      Do you think the sofa will go through the door ?  \n",
       "2     The wholesaler broke the container loads into ...  \n",
       "3               Bees filled the waxen cups with honey .  \n",
       "4                                  The French Academy .  \n",
       "...                                                 ...  \n",
       "5423    Kronas kurss — the exchange rate of the krona .  \n",
       "5424  The conflict between the government and the re...  \n",
       "5425                                Answer a question .  \n",
       "5426                                   Play the races .  \n",
       "5427                     An invasion of mobile phones .  \n",
       "\n",
       "[5428 rows x 5 columns]"
      ]
     },
     "execution_count": 4,
     "metadata": {},
     "output_type": "execute_result"
    }
   ],
   "source": [
    "# see what the training data looks like\n",
    "train_data"
   ]
  },
  {
   "cell_type": "code",
   "execution_count": 5,
   "metadata": {},
   "outputs": [
    {
     "name": "stderr",
     "output_type": "stream",
     "text": [
      "Some weights of the model checkpoint at bert-large-uncased were not used when initializing BertModel: ['cls.seq_relationship.bias', 'cls.seq_relationship.weight', 'cls.predictions.transform.LayerNorm.bias', 'cls.predictions.transform.dense.bias', 'cls.predictions.bias', 'cls.predictions.transform.dense.weight', 'cls.predictions.decoder.weight', 'cls.predictions.transform.LayerNorm.weight']\n",
      "- This IS expected if you are initializing BertModel from the checkpoint of a model trained on another task or with another architecture (e.g. initializing a BertForSequenceClassification model from a BertForPreTraining model).\n",
      "- This IS NOT expected if you are initializing BertModel from the checkpoint of a model that you expect to be exactly identical (initializing a BertForSequenceClassification model from a BertForSequenceClassification model).\n"
     ]
    },
    {
     "name": "stdout",
     "output_type": "stream",
     "text": [
      "\n",
      "\n",
      "\n",
      "\n",
      "\n",
      "\n"
     ]
    }
   ],
   "source": [
    "\"\"\" Load Pre-Trained BERT Model and Tokenizer \"\"\"\n",
    "model = BertModel.from_pretrained('bert-large-uncased')\n",
    "pretrained_tokenizer = BertTokenizer.from_pretrained('bert-large-uncased', do_lower_case=True)\n",
    "\n",
    "cls_id = pretrained_tokenizer.convert_tokens_to_ids('[CLS]')\n",
    "sep_id = pretrained_tokenizer.convert_tokens_to_ids('[SEP]')\n",
    "\n",
    "\"\"\" Train Tokenizers/Encoders on our Training Data \"\"\"\n",
    "# corpus containing the raw text of the training set\n",
    "train_corpus = ' '.join(train_data[3].tolist()) + ' ' + ' '.join(train_data[4].tolist())\n",
    "\n",
    "# BPE encoder\n",
    "bpe_tokenizer_encoder = get_encoder()\n",
    "\n",
    "# BPE tokenizer (used to calculate compression for long strings)\n",
    "bpe_tokenizer = Tokenizer(BPE(unk_token=\"[UNK]\"))\n",
    "bpe_tokenizer.pre_tokenizer = Whitespace()\n",
    "bpe_tokenizer.train_from_iterator(train_corpus)\n",
    "\n",
    "# Huffman codec trained over training set text\n",
    "letter_freq = defaultdict(int)\n",
    "for letter in train_corpus:\n",
    "    letter_freq[letter] += 1\n",
    "codec_with_spaces = HuffmanCodec.from_frequencies(letter_freq)\n",
    "codec_without_spaces = HuffmanCodec.from_frequencies({k: v for k, v in letter_freq.items() if k != ' '})\n",
    "\n",
    "# Huffman codec for text broken up by BERT tokenizer\n",
    "subword_letter_freq = defaultdict(int)\n",
    "for i in range(len(train_data)):\n",
    "    tokenized_example = pretrained_tokenizer.tokenize(train_data[3][i])\n",
    "    for token in tokenized_example:\n",
    "        for letter in token:\n",
    "            subword_letter_freq[letter] += 1\n",
    "    tokenized_example = pretrained_tokenizer.tokenize(train_data[4][i])\n",
    "    for token in tokenized_example:\n",
    "        for letter in token:\n",
    "            subword_letter_freq[letter] += 1\n",
    "subword_codec = HuffmanCodec.from_data(subword_letter_freq)"
   ]
  },
  {
   "cell_type": "code",
   "execution_count": 6,
   "metadata": {},
   "outputs": [],
   "source": [
    "\"\"\" Util for splitting compressed sentences into an array of integers \"\"\"\n",
    "# BERT has a stated vocab size of 30,000, which means that each token index has to be encoded using 14 bits\n",
    "# (log2(30000) = 14.9) to fit within the encoding range.\n",
    "\n",
    "# We thus \"break up\" longer words into subwords, and use the subword vocab to encode the subwords of 14 bits each.\n",
    "def compress_tokens_into_vocab(token_list, max_bits = int(np.floor(np.log2(VOCAB_SIZE)))):\n",
    "    compressed_tokens = []\n",
    "    for token in token_list:\n",
    "        if token < VOCAB_SIZE:\n",
    "            compressed_tokens.append(token)\n",
    "        else:\n",
    "            binary_rep = bin(token)[2:]\n",
    "            while len(binary_rep) > max_bits:\n",
    "                compressed_tokens.append(int(binary_rep[len(binary_rep)-max_bits:], 2))\n",
    "                binary_rep = binary_rep[:-1 * max_bits]\n",
    "            compressed_tokens.append(int(binary_rep, 2))\n",
    "    return compressed_tokens\n",
    "\n",
    "# sanity check\n",
    "# compress_tokens_into_vocab([41000, 12341234123, 5, 1341234123412])\n"
   ]
  },
  {
   "cell_type": "code",
   "execution_count": 7,
   "metadata": {},
   "outputs": [],
   "source": [
    "def run_experiment(model, encoding_func, train_data, train_labels, valid_data, valid_labels):\n",
    "    \"\"\"\n",
    "    General function to run an experiment on a given model and encoding function.\n",
    "\n",
    "    The encoding function maps string data to an array of ints. It is intended that when testing\n",
    "    different compression methods, we build in this compression into the encoding functions.\n",
    "    \"\"\"\n",
    "    train_indexed_tokens = encoding_func(train_data)\n",
    "    train_segments_ids = [[1] * len(example) for example in train_indexed_tokens]\n",
    "\n",
    "    # Convert inputs to PyTorch tensors\n",
    "    train_tokens_tensor = [torch.tensor([example]) for example in train_indexed_tokens]\n",
    "    train_segments_tensors = [torch.tensor([seg_id]) for seg_id in train_segments_ids]\n",
    "    print(f\"Sample indexed token for {encoding_func.__name__}: {train_indexed_tokens[0]}\")\n",
    "\n",
    "    # get sentence embedding from BERT hidden states\n",
    "    sentence_embeddings = []\n",
    "    print(\"Now evaluating pre-trained BERT model on training set\")\n",
    "    for i in tqdm(range(len(train_tokens_tensor)), desc=\"Train Progress\"):\n",
    "        embedding = model.forward(train_tokens_tensor[i], train_segments_tensors[i])\n",
    "        sentence_embeddings.append(embedding[0][0][0].detach().numpy()) # reshape into 1D array\n",
    "    sentence_embeddings = np.array(sentence_embeddings)\n",
    "    \n",
    "    # train a logistic classifier on the sentence embeddings with labels\n",
    "    x_train, x_test, y_train, y_test = train_test_split(sentence_embeddings, train_labels, test_size=0.2, random_state=42)\n",
    "    clf = LogisticRegression(random_state=0).fit(x_train, y_train)\n",
    "    y_pred = clf.predict(x_test)\n",
    "    train_acc = accuracy_score(y_test, y_pred)\n",
    "    # save model\n",
    "    with open(f'{MODEL_DIR}{encoding_func.__name__}.pkl','wb') as f:\n",
    "        pickle.dump(clf,f)\n",
    "\n",
    "    # evaluate on the dev set\n",
    "    test_indexed_tokens = encoding_func(valid_data)\n",
    "    test_segments_ids = [[1] * len(example) for example in test_indexed_tokens]\n",
    "    test_tokens_tensor = [torch.tensor([example]) for example in test_indexed_tokens]\n",
    "    test_segments_tensors = [torch.tensor([seg_id]) for seg_id in test_segments_ids]\n",
    "\n",
    "    results = []\n",
    "    print(\"Now evaluating pre-trained BERT model on the validation set\")\n",
    "    for i in tqdm(range(len(test_tokens_tensor)), desc=\"Validation Progress\"):\n",
    "        embedding = model.forward(test_tokens_tensor[i], test_segments_tensors[i])\n",
    "        results.append(embedding[0][0][0].detach().numpy())\n",
    "    y_pred = clf.predict(results)\n",
    "    test_acc = accuracy_score(valid_labels, y_pred)\n",
    "\n",
    "    print(\"Training accuracy: \", train_acc)\n",
    "    print(\"Validation accuracy: \", test_acc)\n",
    "    \n",
    "    return clf, train_acc, test_acc"
   ]
  },
  {
   "cell_type": "markdown",
   "metadata": {},
   "source": [
    "\n",
    "|**EXPERIMENTS**|\n",
    "|---------------|"
   ]
  },
  {
   "cell_type": "code",
   "execution_count": 8,
   "metadata": {},
   "outputs": [
    {
     "name": "stdout",
     "output_type": "stream",
     "text": [
      "Sample indexed token for pretrained_subword_encoder: [101, 2017, 2442, 4287, 2115, 13215, 6718, 1012, 102, 2614, 7883, 2092, 2058, 2300, 1012, 102]\n",
      "Now evaluating pre-trained BERT model on training set\n",
      "huggingface/tokenizers: The current process just got forked, after parallelism has already been used. Disabling parallelism to avoid deadlocks...\n",
      "To disable this warning, you can either:\n",
      "\t- Avoid using `tokenizers` before the fork if possible\n",
      "\t- Explicitly set the environment variable TOKENIZERS_PARALLELISM=(true | false)\n"
     ]
    },
    {
     "data": {
      "application/vnd.jupyter.widget-view+json": {
       "model_id": "f12935e235274a429ff2f41aff04ddc5",
       "version_major": 2,
       "version_minor": 0
      },
      "text/plain": [
       "Train Progress:   0%|          | 0/5428 [00:00<?, ?it/s]"
      ]
     },
     "metadata": {},
     "output_type": "display_data"
    },
    {
     "name": "stderr",
     "output_type": "stream",
     "text": [
      "/Users/matthewding/Documents/GitHub/cs229-final-project/venv/lib/python3.8/site-packages/sklearn/linear_model/_logistic.py:444: ConvergenceWarning: lbfgs failed to converge (status=1):\n",
      "STOP: TOTAL NO. of ITERATIONS REACHED LIMIT.\n",
      "\n",
      "Increase the number of iterations (max_iter) or scale the data as shown in:\n",
      "    https://scikit-learn.org/stable/modules/preprocessing.html\n",
      "Please also refer to the documentation for alternative solver options:\n",
      "    https://scikit-learn.org/stable/modules/linear_model.html#logistic-regression\n",
      "  n_iter_i = _check_optimize_result(\n"
     ]
    },
    {
     "name": "stdout",
     "output_type": "stream",
     "text": [
      "Now evaluating pre-trained BERT model on the validation set\n"
     ]
    },
    {
     "data": {
      "application/vnd.jupyter.widget-view+json": {
       "model_id": "7af860cb910c46f9961a56745bb03cdc",
       "version_major": 2,
       "version_minor": 0
      },
      "text/plain": [
       "Validation Progress:   0%|          | 0/638 [00:00<?, ?it/s]"
      ]
     },
     "metadata": {},
     "output_type": "display_data"
    },
    {
     "name": "stdout",
     "output_type": "stream",
     "text": [
      "Training accuracy:  0.6620626151012892\n",
      "Validation accuracy:  0.6253918495297806\n"
     ]
    }
   ],
   "source": [
    "\"\"\"\n",
    "Experiment 1: Pre-trained BERT tokenizer with subword tokenization (no compression)\n",
    "\"\"\"\n",
    "def pretrained_subword_encoder(data):\n",
    "    sent1_col = data[3].tolist()\n",
    "    sent2_col = data[4].tolist()\n",
    "    # formats our sentence pairs into a format that can be input into BERT.\n",
    "    # [CLS] sentence1 [SEP] sentence2 [SEP]\n",
    "    modif_data = [CLASSIFICATION_TOKEN + ' ' + sent1_col[i] + ' ' + SEP_TOKEN + ' ' + sent2_col[i] + ' ' + SEP_TOKEN for i in range(len(sent1_col))]\n",
    "    # Tokenize our sentence with the pre-trained BERT tokenizer.\n",
    "    tokenized_data = [pretrained_tokenizer.tokenize(example) for example in modif_data]\n",
    "    # Map the token strings to their vocabulary indices.\n",
    "    return [pretrained_tokenizer.convert_tokens_to_ids(example) for example in tokenized_data]\n",
    "\n",
    "pretrained_clf, pretrained_train_acc, pretrained_test_acc = run_experiment(model, pretrained_subword_encoder, train_data, train_labels, valid_data, valid_labels)\n"
   ]
  },
  {
   "cell_type": "code",
   "execution_count": 9,
   "metadata": {},
   "outputs": [
    {
     "name": "stdout",
     "output_type": "stream",
     "text": [
      "Sample indexed token for bpe_sentence_encoder: [101, 1639, 1276, 3283, 534, 22498, 7733, 764, 102, 21369, 10732, 880, 625, 1660, 764, 102]\n",
      "Now evaluating pre-trained BERT model on training set\n"
     ]
    },
    {
     "data": {
      "application/vnd.jupyter.widget-view+json": {
       "model_id": "b92f0add718d4bc4ba6b798597de37e5",
       "version_major": 2,
       "version_minor": 0
      },
      "text/plain": [
       "Train Progress:   0%|          | 0/5428 [00:00<?, ?it/s]"
      ]
     },
     "metadata": {},
     "output_type": "display_data"
    },
    {
     "name": "stdout",
     "output_type": "stream",
     "text": [
      "Now evaluating pre-trained BERT model on the validation set\n"
     ]
    },
    {
     "name": "stderr",
     "output_type": "stream",
     "text": [
      "/Users/matthewding/Documents/GitHub/cs229-final-project/venv/lib/python3.8/site-packages/sklearn/linear_model/_logistic.py:444: ConvergenceWarning: lbfgs failed to converge (status=1):\n",
      "STOP: TOTAL NO. of ITERATIONS REACHED LIMIT.\n",
      "\n",
      "Increase the number of iterations (max_iter) or scale the data as shown in:\n",
      "    https://scikit-learn.org/stable/modules/preprocessing.html\n",
      "Please also refer to the documentation for alternative solver options:\n",
      "    https://scikit-learn.org/stable/modules/linear_model.html#logistic-regression\n",
      "  n_iter_i = _check_optimize_result(\n"
     ]
    },
    {
     "data": {
      "application/vnd.jupyter.widget-view+json": {
       "model_id": "b3e7fd48486a408e8c78799c50252bcd",
       "version_major": 2,
       "version_minor": 0
      },
      "text/plain": [
       "Validation Progress:   0%|          | 0/638 [00:00<?, ?it/s]"
      ]
     },
     "metadata": {},
     "output_type": "display_data"
    },
    {
     "name": "stdout",
     "output_type": "stream",
     "text": [
      "Training accuracy:  0.5368324125230203\n",
      "Validation accuracy:  0.5282131661442007\n"
     ]
    }
   ],
   "source": [
    "\"\"\"\n",
    "Experiment 2a: Byte-Pair Encoding (BPE) of entire string\n",
    "\"\"\"\n",
    "def bpe_sentence_encoder(data):\n",
    "    sent1_col = data[3].tolist()\n",
    "    sent2_col = data[4].tolist()\n",
    "    return [[cls_id] + compress_tokens_into_vocab(bpe_tokenizer_encoder.encode(sent1_col[i])) + [sep_id] + compress_tokens_into_vocab(bpe_tokenizer_encoder.encode(sent2_col[i])) + [sep_id] for i in range(len(sent1_col))]\n",
    "\n",
    "bpe_sentence_clf, bpe_sentence_train_acc, bpe_sentence_test_acc = run_experiment(model, bpe_sentence_encoder, train_data, train_labels, valid_data, valid_labels)"
   ]
  },
  {
   "cell_type": "code",
   "execution_count": 10,
   "metadata": {},
   "outputs": [
    {
     "name": "stdout",
     "output_type": "stream",
     "text": [
      "Sample indexed token for bpe_word_encoder: [101, 1639, 27238, 5993, 14108, 16544, 278, 2763, 13, 102, 21369, 7718, 1678, 4053, 2502, 7050, 13, 102]\n",
      "Now evaluating pre-trained BERT model on training set\n"
     ]
    },
    {
     "data": {
      "application/vnd.jupyter.widget-view+json": {
       "model_id": "820cb7872cb342aa9e7e9e253575460e",
       "version_major": 2,
       "version_minor": 0
      },
      "text/plain": [
       "Train Progress:   0%|          | 0/5428 [00:00<?, ?it/s]"
      ]
     },
     "metadata": {},
     "output_type": "display_data"
    },
    {
     "name": "stdout",
     "output_type": "stream",
     "text": [
      "Now evaluating pre-trained BERT model on the validation set\n"
     ]
    },
    {
     "name": "stderr",
     "output_type": "stream",
     "text": [
      "/Users/matthewding/Documents/GitHub/cs229-final-project/venv/lib/python3.8/site-packages/sklearn/linear_model/_logistic.py:444: ConvergenceWarning: lbfgs failed to converge (status=1):\n",
      "STOP: TOTAL NO. of ITERATIONS REACHED LIMIT.\n",
      "\n",
      "Increase the number of iterations (max_iter) or scale the data as shown in:\n",
      "    https://scikit-learn.org/stable/modules/preprocessing.html\n",
      "Please also refer to the documentation for alternative solver options:\n",
      "    https://scikit-learn.org/stable/modules/linear_model.html#logistic-regression\n",
      "  n_iter_i = _check_optimize_result(\n"
     ]
    },
    {
     "data": {
      "application/vnd.jupyter.widget-view+json": {
       "model_id": "e82c7cbf1a684ed589934dd7de708991",
       "version_major": 2,
       "version_minor": 0
      },
      "text/plain": [
       "Validation Progress:   0%|          | 0/638 [00:00<?, ?it/s]"
      ]
     },
     "metadata": {},
     "output_type": "display_data"
    },
    {
     "name": "stdout",
     "output_type": "stream",
     "text": [
      "Training accuracy:  0.5662983425414365\n",
      "Validation accuracy:  0.49843260188087773\n"
     ]
    }
   ],
   "source": [
    "\"\"\"\n",
    "Experiment 2b: BPE of individual words\n",
    "\"\"\"\n",
    "def bpe_word_encoder(data):\n",
    "    sent1_col = data[3].tolist()\n",
    "    sent2_col = data[4].tolist()\n",
    "    bpe_encoded_words = []\n",
    "    for i in range(len(sent1_col)):\n",
    "        curr_token = [cls_id]\n",
    "        for word in sent1_col[i].split():\n",
    "            curr_token += [token % VOCAB_SIZE for token in bpe_tokenizer_encoder.encode(word)]\n",
    "        curr_token += [sep_id]\n",
    "        for word in sent2_col[i].split():\n",
    "            curr_token += [token % VOCAB_SIZE for token in bpe_tokenizer_encoder.encode(word)]\n",
    "        curr_token += [sep_id]\n",
    "        bpe_encoded_words.append(curr_token)\n",
    "    return bpe_encoded_words\n",
    "\n",
    "bpe_word_clf, bpe_word_train_acc, bpe_word_test_acc = run_experiment(model, bpe_word_encoder, train_data, train_labels, valid_data, valid_labels)"
   ]
  },
  {
   "cell_type": "code",
   "execution_count": 11,
   "metadata": {},
   "outputs": [
    {
     "name": "stdout",
     "output_type": "stream",
     "text": [
      "Sample indexed token for bpe_subword_encoder: [101, 5832, 27238, 5993, 14108, 16544, 278, 2763, 13, 102, 23661, 7718, 1678, 4053, 2502, 7050, 13, 102]\n",
      "Now evaluating pre-trained BERT model on training set\n"
     ]
    },
    {
     "data": {
      "application/vnd.jupyter.widget-view+json": {
       "model_id": "24ab6afd3a1145b18772eaf497967233",
       "version_major": 2,
       "version_minor": 0
      },
      "text/plain": [
       "Train Progress:   0%|          | 0/5428 [00:00<?, ?it/s]"
      ]
     },
     "metadata": {},
     "output_type": "display_data"
    },
    {
     "name": "stderr",
     "output_type": "stream",
     "text": [
      "/Users/matthewding/Documents/GitHub/cs229-final-project/venv/lib/python3.8/site-packages/sklearn/linear_model/_logistic.py:444: ConvergenceWarning: lbfgs failed to converge (status=1):\n",
      "STOP: TOTAL NO. of ITERATIONS REACHED LIMIT.\n",
      "\n",
      "Increase the number of iterations (max_iter) or scale the data as shown in:\n",
      "    https://scikit-learn.org/stable/modules/preprocessing.html\n",
      "Please also refer to the documentation for alternative solver options:\n",
      "    https://scikit-learn.org/stable/modules/linear_model.html#logistic-regression\n",
      "  n_iter_i = _check_optimize_result(\n"
     ]
    },
    {
     "name": "stdout",
     "output_type": "stream",
     "text": [
      "Now evaluating pre-trained BERT model on the validation set\n"
     ]
    },
    {
     "data": {
      "application/vnd.jupyter.widget-view+json": {
       "model_id": "6bdee7cc32b6494eabd69eed2e484c9c",
       "version_major": 2,
       "version_minor": 0
      },
      "text/plain": [
       "Validation Progress:   0%|          | 0/638 [00:00<?, ?it/s]"
      ]
     },
     "metadata": {},
     "output_type": "display_data"
    },
    {
     "name": "stdout",
     "output_type": "stream",
     "text": [
      "Training accuracy:  0.5755064456721916\n",
      "Validation accuracy:  0.5156739811912225\n"
     ]
    }
   ],
   "source": [
    "\"\"\"\n",
    "Experiment 2c: BPE of subwords using pre-trained BERT tokenizer\n",
    "\"\"\"\n",
    "def bpe_subword_encoder(data):\n",
    "    sent1_col = [pretrained_tokenizer.tokenize(example) for example in data[3].tolist()]\n",
    "    sent2_col = [pretrained_tokenizer.tokenize(example) for example in data[4].tolist()]\n",
    "    bpe_encoded_tokens = []\n",
    "    for i in range(len(sent1_col)):\n",
    "        curr_token = [cls_id]\n",
    "        for word in sent1_col[i]:\n",
    "            curr_token += [token % VOCAB_SIZE for token in bpe_tokenizer_encoder.encode(word)]\n",
    "        curr_token += [sep_id]\n",
    "        for word in sent2_col[i]:\n",
    "            curr_token += [token % VOCAB_SIZE for token in bpe_tokenizer_encoder.encode(word)]\n",
    "        curr_token += [sep_id]\n",
    "        bpe_encoded_tokens.append(curr_token)\n",
    "    return bpe_encoded_tokens\n",
    "\n",
    "bpe_subword_clf, bpe_subword_train_acc, bpe_subword_test_acc = run_experiment(model, bpe_subword_encoder, train_data, train_labels, valid_data, valid_labels)"
   ]
  },
  {
   "cell_type": "code",
   "execution_count": 12,
   "metadata": {},
   "outputs": [
    {
     "name": "stdout",
     "output_type": "stream",
     "text": [
      "Sample indexed token for huffman_sentence_encoder: [101, 13221, 14957, 14296, 5677, 3815, 12600, 16265, 1594, 16337, 14459, 4665, 3362, 102, 3778, 11769, 15042, 10204, 3357, 11349, 12906, 1233, 1890, 9291, 6, 102]\n",
      "Now evaluating pre-trained BERT model on training set\n"
     ]
    },
    {
     "data": {
      "application/vnd.jupyter.widget-view+json": {
       "model_id": "8b8d6f7f7209430c80bcb10cb2422ae9",
       "version_major": 2,
       "version_minor": 0
      },
      "text/plain": [
       "Train Progress:   0%|          | 0/5428 [00:00<?, ?it/s]"
      ]
     },
     "metadata": {},
     "output_type": "display_data"
    },
    {
     "name": "stdout",
     "output_type": "stream",
     "text": [
      "Now evaluating pre-trained BERT model on the validation set\n"
     ]
    },
    {
     "name": "stderr",
     "output_type": "stream",
     "text": [
      "/Users/matthewding/Documents/GitHub/cs229-final-project/venv/lib/python3.8/site-packages/sklearn/linear_model/_logistic.py:444: ConvergenceWarning: lbfgs failed to converge (status=1):\n",
      "STOP: TOTAL NO. of ITERATIONS REACHED LIMIT.\n",
      "\n",
      "Increase the number of iterations (max_iter) or scale the data as shown in:\n",
      "    https://scikit-learn.org/stable/modules/preprocessing.html\n",
      "Please also refer to the documentation for alternative solver options:\n",
      "    https://scikit-learn.org/stable/modules/linear_model.html#logistic-regression\n",
      "  n_iter_i = _check_optimize_result(\n"
     ]
    },
    {
     "data": {
      "application/vnd.jupyter.widget-view+json": {
       "model_id": "18a3452fecdf458aa33107942a908beb",
       "version_major": 2,
       "version_minor": 0
      },
      "text/plain": [
       "Validation Progress:   0%|          | 0/638 [00:00<?, ?it/s]"
      ]
     },
     "metadata": {},
     "output_type": "display_data"
    },
    {
     "name": "stdout",
     "output_type": "stream",
     "text": [
      "Training accuracy:  0.5331491712707183\n",
      "Validation accuracy:  0.512539184952978\n"
     ]
    }
   ],
   "source": [
    "\"\"\"\n",
    "Experiment 3a: Huffman coding of entire string, breaking bitstring into smaller strings\n",
    "\"\"\"\n",
    "def huffman_sentence_encoder(data):\n",
    "    sent1_col = data[3].tolist()\n",
    "    sent2_col = data[4].tolist()\n",
    "    return [[cls_id] + compress_tokens_into_vocab([int.from_bytes(codec_with_spaces.encode(sent1_col[i]), byteorder=sys.byteorder)]) + [sep_id] + compress_tokens_into_vocab([int.from_bytes(codec_with_spaces.encode(sent2_col[i]), byteorder=sys.byteorder)]) + [sep_id] for i in range(len(sent1_col))]\n",
    "\n",
    "huffman_sentence_clf, huffman_sentence_train_acc, huffman_sentence_test_acc = run_experiment(model, huffman_sentence_encoder, train_data, train_labels, valid_data, valid_labels)"
   ]
  },
  {
   "cell_type": "code",
   "execution_count": 13,
   "metadata": {},
   "outputs": [
    {
     "name": "stdout",
     "output_type": "stream",
     "text": [
      "Sample indexed token for huffman_word_encoder: [101, 2261, 3784, 6062, 26859, 20806, 23462, 161, 102, 5292, 26622, 19550, 22587, 3743, 161, 102]\n",
      "Now evaluating pre-trained BERT model on training set\n"
     ]
    },
    {
     "data": {
      "application/vnd.jupyter.widget-view+json": {
       "model_id": "2df2f73b4ab04582b88169517faf7bb8",
       "version_major": 2,
       "version_minor": 0
      },
      "text/plain": [
       "Train Progress:   0%|          | 0/5428 [00:00<?, ?it/s]"
      ]
     },
     "metadata": {},
     "output_type": "display_data"
    },
    {
     "name": "stdout",
     "output_type": "stream",
     "text": [
      "Now evaluating pre-trained BERT model on the validation set\n"
     ]
    },
    {
     "name": "stderr",
     "output_type": "stream",
     "text": [
      "/Users/matthewding/Documents/GitHub/cs229-final-project/venv/lib/python3.8/site-packages/sklearn/linear_model/_logistic.py:444: ConvergenceWarning: lbfgs failed to converge (status=1):\n",
      "STOP: TOTAL NO. of ITERATIONS REACHED LIMIT.\n",
      "\n",
      "Increase the number of iterations (max_iter) or scale the data as shown in:\n",
      "    https://scikit-learn.org/stable/modules/preprocessing.html\n",
      "Please also refer to the documentation for alternative solver options:\n",
      "    https://scikit-learn.org/stable/modules/linear_model.html#logistic-regression\n",
      "  n_iter_i = _check_optimize_result(\n"
     ]
    },
    {
     "data": {
      "application/vnd.jupyter.widget-view+json": {
       "model_id": "80378402e0764e4d8f6f93136da5802b",
       "version_major": 2,
       "version_minor": 0
      },
      "text/plain": [
       "Validation Progress:   0%|          | 0/638 [00:00<?, ?it/s]"
      ]
     },
     "metadata": {},
     "output_type": "display_data"
    },
    {
     "name": "stdout",
     "output_type": "stream",
     "text": [
      "Training accuracy:  0.5681399631675875\n",
      "Validation accuracy:  0.5188087774294671\n"
     ]
    }
   ],
   "source": [
    "\"\"\"\n",
    "Experiment 3b: Huffman coding of individual words\n",
    "\"\"\"\n",
    "def huffman_word_encoder(data):\n",
    "    sent1_col = data[3].tolist()\n",
    "    sent2_col = data[4].tolist()\n",
    "    huffman_encoded_words = []\n",
    "    for i in range(len(sent1_col)):\n",
    "        curr_token = [cls_id]\n",
    "        for word in sent1_col[i].split():\n",
    "            curr_token.append(int.from_bytes(codec_without_spaces.encode(word), byteorder=sys.byteorder) % VOCAB_SIZE)\n",
    "        curr_token.append(sep_id)\n",
    "        for word in sent2_col[i].split():\n",
    "            curr_token.append(int.from_bytes(codec_without_spaces.encode(word), byteorder=sys.byteorder) % VOCAB_SIZE)\n",
    "        curr_token.append(sep_id)\n",
    "        huffman_encoded_words.append(curr_token)\n",
    "    return huffman_encoded_words\n",
    "\n",
    "huffman_word_clf, huffman_word_train_acc, huffman_word_test_acc = run_experiment(model, huffman_word_encoder, train_data, train_labels, valid_data, valid_labels)"
   ]
  },
  {
   "cell_type": "code",
   "execution_count": 14,
   "metadata": {},
   "outputs": [
    {
     "name": "stdout",
     "output_type": "stream",
     "text": [
      "Sample indexed token for huffman_subword_encoder: [101, 18875, 24760, 18950, 11155, 22430, 8986, 87, 102, 27605, 27558, 12534, 17722, 12023, 87, 102]\n",
      "Now evaluating pre-trained BERT model on training set\n"
     ]
    },
    {
     "data": {
      "application/vnd.jupyter.widget-view+json": {
       "model_id": "3f622e19da5e4d82ababe5c6950884e1",
       "version_major": 2,
       "version_minor": 0
      },
      "text/plain": [
       "Train Progress:   0%|          | 0/5428 [00:00<?, ?it/s]"
      ]
     },
     "metadata": {},
     "output_type": "display_data"
    },
    {
     "name": "stderr",
     "output_type": "stream",
     "text": [
      "/Users/matthewding/Documents/GitHub/cs229-final-project/venv/lib/python3.8/site-packages/sklearn/linear_model/_logistic.py:444: ConvergenceWarning: lbfgs failed to converge (status=1):\n",
      "STOP: TOTAL NO. of ITERATIONS REACHED LIMIT.\n",
      "\n",
      "Increase the number of iterations (max_iter) or scale the data as shown in:\n",
      "    https://scikit-learn.org/stable/modules/preprocessing.html\n",
      "Please also refer to the documentation for alternative solver options:\n",
      "    https://scikit-learn.org/stable/modules/linear_model.html#logistic-regression\n",
      "  n_iter_i = _check_optimize_result(\n"
     ]
    },
    {
     "name": "stdout",
     "output_type": "stream",
     "text": [
      "Now evaluating pre-trained BERT model on the validation set\n"
     ]
    },
    {
     "data": {
      "application/vnd.jupyter.widget-view+json": {
       "model_id": "73e4b70a69bc4cb18c0b34c33a33d0c5",
       "version_major": 2,
       "version_minor": 0
      },
      "text/plain": [
       "Validation Progress:   0%|          | 0/638 [00:00<?, ?it/s]"
      ]
     },
     "metadata": {},
     "output_type": "display_data"
    },
    {
     "name": "stdout",
     "output_type": "stream",
     "text": [
      "Training accuracy:  0.58195211786372\n",
      "Validation accuracy:  0.5094043887147336\n"
     ]
    }
   ],
   "source": [
    "\"\"\"\n",
    "Experiment 3c: Huffman coding of tokenized words (using pretrained tokenizer)\n",
    "\"\"\"\n",
    "def huffman_subword_encoder(data):\n",
    "    sent1_col = [pretrained_tokenizer.tokenize(example) for example in data[3].tolist()]\n",
    "    sent2_col = [pretrained_tokenizer.tokenize(example) for example in data[4].tolist()]\n",
    "    huffman_encoded_subwords = []\n",
    "    for i in range(len(sent1_col)):\n",
    "        curr_token = [cls_id]\n",
    "        for word in sent1_col[i]:\n",
    "            curr_token.append(int.from_bytes(subword_codec.encode(word), byteorder=sys.byteorder) % VOCAB_SIZE)\n",
    "        curr_token.append(sep_id)\n",
    "        for word in sent2_col[i]:\n",
    "            curr_token.append(int.from_bytes(subword_codec.encode(word), byteorder=sys.byteorder) % VOCAB_SIZE)\n",
    "        curr_token.append(sep_id)\n",
    "        huffman_encoded_subwords.append(curr_token)\n",
    "    return huffman_encoded_subwords\n",
    "\n",
    "huffman_subword_clf, huffman_subword_train_acc, huffman_subword_test_acc = run_experiment(model, huffman_subword_encoder, train_data, train_labels, valid_data, valid_labels)"
   ]
  },
  {
   "cell_type": "markdown",
   "metadata": {},
   "source": [
    "|**ANALYSIS AND RESULT VISUALIZATION**|\n",
    "|-------------------------------------|"
   ]
  },
  {
   "cell_type": "code",
   "execution_count": 15,
   "metadata": {},
   "outputs": [],
   "source": [
    "\"\"\"\n",
    "Compression Algorithms and Trained Models\n",
    "\n",
    "The algos/models's indices match each other. So trained_models[i] contains the model that was trained with the compression algorithm in encoders[i]\n",
    "\"\"\"\n",
    "encoders = [pretrained_subword_encoder, bpe_sentence_encoder, bpe_sentence_encoder, bpe_subword_encoder, huffman_sentence_encoder, huffman_word_encoder, huffman_subword_encoder]\n",
    "trained_models = [pretrained_clf, bpe_sentence_clf, bpe_sentence_clf, bpe_subword_clf, huffman_sentence_clf, huffman_word_clf, huffman_subword_clf]\n",
    "test_accs = [pretrained_test_acc, bpe_sentence_test_acc, bpe_sentence_test_acc, bpe_subword_test_acc, huffman_sentence_test_acc, huffman_word_test_acc, huffman_subword_test_acc]\n",
    "labels = [\"uncompressed\", \"BPE-sentence\", \"BPE-word\", \"BPE-subword\", \"Huffman-sentence\", \"Huffman-word\", \"Huffman-subword\"]\n",
    "\n",
    "encoders_dict = {labels[i]: encoders[i] for i in range(len(labels))}\n",
    "trained_models_dict = {labels[i]: trained_models[i] for i in range(len(labels))}"
   ]
  },
  {
   "cell_type": "code",
   "execution_count": 24,
   "metadata": {},
   "outputs": [],
   "source": [
    "\"\"\"\n",
    "This code contains the functions for compressing the training data and computing the compression ratio\n",
    "\"\"\"\n",
    "\n",
    "def compute_compression_percentages(data):\n",
    "    \"\"\" All sizes are in units of bits\"\"\"\n",
    "    full_text = ' '.join(data[3].tolist()) + ' ' + ' '.join(data[4].tolist())\n",
    "    words = full_text.split()\n",
    "    subword_tokens = pretrained_tokenizer.tokenize(full_text)\n",
    "\n",
    "    data_sizes = {}\n",
    "    compression_factors = {}\n",
    "    # uncompressed_data (no tokenization)\n",
    "    uncompressed_size = len(full_text) * BITS_PER_BYTE\n",
    "    data_sizes[\"uncompressed\"] = uncompressed_size\n",
    "    compression_factors[\"uncompressed\"] = 0\n",
    "    # BPE (sentences)\n",
    "    bpe_sentence_size = len(bpe_tokenizer.encode(full_text).tokens) * BITS_PER_BYTE\n",
    "    data_sizes[\"BPE-sentence\"] = bpe_sentence_size\n",
    "    compression_factors[\"BPE-sentence\"] = (uncompressed_size - bpe_sentence_size) / uncompressed_size\n",
    "    # BPE (words)\n",
    "    bpe_word_size = sum([len(bpe_tokenizer_encoder.bpe(word)) for word in words]) * BITS_PER_BYTE\n",
    "    data_sizes[\"BPE-word\"] = bpe_word_size\n",
    "    compression_factors[\"BPE-word\"] = (uncompressed_size - bpe_word_size) / uncompressed_size\n",
    "    # BPE (subword tokens)\n",
    "    bpe_subword_size = sum([len(bpe_tokenizer_encoder.bpe(token)) for token in subword_tokens]) * BITS_PER_BYTE\n",
    "    data_sizes[\"BPE-subword\"] = bpe_subword_size\n",
    "    compression_factors[\"BPE-subword\"] = (uncompressed_size - bpe_subword_size) / uncompressed_size\n",
    "    # Huffman encoding (sentences)\n",
    "    huffman_sentence_size = len(codec_with_spaces.encode(full_text)) * BITS_PER_BYTE\n",
    "    data_sizes[\"Huffman-sentence\"] = huffman_sentence_size\n",
    "    compression_factors[\"Huffman-sentence\"] = (uncompressed_size - huffman_sentence_size) / uncompressed_size\n",
    "    # Huffman encoding (words)\n",
    "    huffman_word_size = sum([len(codec_without_spaces.encode(word)) for word in words]) * BITS_PER_BYTE\n",
    "    data_sizes[\"Huffman-word\"] = huffman_word_size\n",
    "    compression_factors[\"Huffman-word\"] = (uncompressed_size - huffman_word_size) / uncompressed_size\n",
    "    # Huffman encoding (subword tokens)\n",
    "    huffman_subword_size = sum([len(subword_codec.encode(token)) for token in subword_tokens]) * BITS_PER_BYTE\n",
    "    data_sizes[\"Huffman-subword\"] = huffman_subword_size\n",
    "    compression_factors[\"Huffman-subword\"] = (uncompressed_size - huffman_subword_size) / uncompressed_size\n",
    "\n",
    "    return data_sizes, compression_factors"
   ]
  },
  {
   "cell_type": "code",
   "execution_count": 25,
   "metadata": {},
   "outputs": [
    {
     "data": {
      "text/plain": [
       "{'uncompressed': 0,\n",
       " 'BPE-sentence': 0.1978439499709133,\n",
       " 'BPE-word': 0.14367001163467133,\n",
       " 'BPE-subword': 0.11222004072134963,\n",
       " 'Huffman-sentence': 0.45426119837114604,\n",
       " 'Huffman-word': 0.4631326352530541,\n",
       " 'Huffman-subword': 0.44968004653868526}"
      ]
     },
     "execution_count": 25,
     "metadata": {},
     "output_type": "execute_result"
    }
   ],
   "source": [
    "_, test_compression_factors = compute_compression_percentages(valid_data)\n",
    "test_compression_factors"
   ]
  },
  {
   "cell_type": "code",
   "execution_count": 34,
   "metadata": {},
   "outputs": [
    {
     "name": "stderr",
     "output_type": "stream",
     "text": [
      "/var/folders/47/7cyx1m3x64s2dgtkc9jm0kkc0000gn/T/ipykernel_32652/156965073.py:19: UserWarning: color is redundantly defined by the 'color' keyword argument and the fmt string \"r-\" (-> color='r'). The keyword argument will take precedence.\n",
      "  plt.plot(x_extended, np.polyval(p1,x_extended),'r-', label=\"Best Fit (excluding uncompressed)\", c='black')\n"
     ]
    },
    {
     "name": "stdout",
     "output_type": "stream",
     "text": [
      "Line of best fit: y = -0.03x + 0.53\n"
     ]
    },
    {
     "data": {
      "text/plain": [
       "<Figure size 640x480 with 0 Axes>"
      ]
     },
     "metadata": {},
     "output_type": "display_data"
    },
    {
     "data": {
      "image/png": "[encoded data removed]",
      "text/plain": [
       "<Figure size 640x480 with 1 Axes>"
      ]
     },
     "metadata": {},
     "output_type": "display_data"
    }
   ],
   "source": [
    "# plot model accuracies vs compression ratio\n",
    "plt.clf()\n",
    "fig, ax = plt.subplots()\n",
    "x, y = [], []\n",
    "for i in range(len(labels)):\n",
    "    label = labels[i]\n",
    "    plt.scatter(test_compression_factors[label], test_accs[i], label=label)\n",
    "    if label == \"uncompressed\":\n",
    "        continue\n",
    "    x.append(test_compression_factors[label])\n",
    "    y.append(test_accs[i])\n",
    "\n",
    "# plot line of best fit (across entire graph)\n",
    "x_low = -0.05\n",
    "x_high = 1.1*max(list(test_compression_factors.values()))\n",
    "x_extended = np.linspace(x_low, x_high, 100)\n",
    "p1 = np.polyfit(x, y, 1)\n",
    "ax.annotate(f\"y = {round(p1[0], 2)}x + {round(p1[1], 2)}\", (0, p1[1]))\n",
    "plt.plot(x_extended, np.polyval(p1,x_extended),'r-', label=\"Best Fit (excluding uncompressed)\", c='black')\n",
    "print(f\"Line of best fit: y = {round(p1[0], 2)}x + {round(p1[1], 2)}\")\n",
    "plt.xlim(x_low, x_high)\n",
    "\n",
    "plt.title(\"Test Accuracy vs Compression\")\n",
    "plt.xlabel(\"Compression Ratio (%)\")\n",
    "plt.ylabel(\"Test Accuracy\")\n",
    "plt.legend()\n",
    "plt.savefig(\"figures/test_accuracies.png\")"
   ]
  }
 ],
 "metadata": {
  "kernelspec": {
   "display_name": "Python 3.8.1 ('venv': venv)",
   "language": "python",
   "name": "python3"
  },
  "language_info": {
   "codemirror_mode": {
    "name": "ipython",
    "version": 3
   },
   "file_extension": ".py",
   "mimetype": "text/x-python",
   "name": "python",
   "nbconvert_exporter": "python",
   "pygments_lexer": "ipython3",
   "version": "3.8.1"
  },
  "orig_nbformat": 4,
  "vscode": {
   "interpreter": {
    "hash": "dd533cc10b9a86aa554a517c3d5f5bbd5ef16f9b455d458b44758e25dae0aea7"
   }
  }
 },
 "nbformat": 4,
 "nbformat_minor": 2
}
